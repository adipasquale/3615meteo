{
 "cells": [
  {
   "cell_type": "code",
   "execution_count": 2,
   "source": [
    "from lxml import etree\n",
    "import os"
   ],
   "outputs": [],
   "metadata": {}
  },
  {
   "cell_type": "code",
   "execution_count": 10,
   "source": [
    "DIRNAME = os.getcwd()\n",
    "with open(os.path.join(DIRNAME, \"..\", \"tests\", \"bulletin_cote_1.xml\")) as f:\n",
    "  doc = etree.fromstring(f.read().encode(\"utf-8\"))\n",
    "print(etree.tostring(doc))"
   ],
   "outputs": [
    {
     "output_type": "stream",
     "name": "stdout",
     "text": [
      "b'<bulletin producteurBulletin=\"CNP\" langueBulletin=\"FR\" typeBulletin=\"cote\" soustypeBulletin=\"BMR\" typePeriodeBulletin=\"CE\" zoneBulletin=\"7\" dateDeProduction=\"2021-09-13 09:32:14\" dateDeBase=\"2021-09-13 09:32:14\" dateDeFin=\"2021-09-15 18:00:00\">\\n\\n<titreBulletin>Bulletin c&#244;te \"Port Camargue - Saint Rapha&#235;l\" midi</titreBulletin>\\n<chapeauBulletin>Origine M&#233;t&#233;o-France.\\nBulletin c&#244;tier pour la bande des 20 milles, de Port-Camargue &#224; Saint-Rapha&#235;l, du lundi 13 septembre 2021 &#224; 12H30 l&#233;gales.</chapeauBulletin>\\n<uniteBulletin>Vent moyen selon &#233;chelle Beaufort.\\nMer selon &#233;chelle Douglas.\\nHeure l&#233;gale = heure UTC+1 en hiver et heure UTC+2 en &#233;t&#233;.\\nAttention : en situation normale, les rafales peuvent &#234;tre sup&#233;rieures de 40 % au vent moyen et les vagues maximales atteindre 2 fois la hauteur significative.</uniteBulletin>\\n<bulletinSpecial>Pas d\\'avis de vent fort en cours ni pr&#233;vu. </bulletinSpecial>\\n\\n<echeance idEcheance=\"sit1\" nomEcheance=\"situation g&#233;n&#233;rale\" debutEcheance=\"2021-09-13 00:00:00\" finEcheance=\"2021-09-13 06:00:00\" nbRegion=\"1\">\\n    <titreEcheance>Situation g&#233;n&#233;rale le lundi 13 septembre 2021 &#224; 06H00 UTC, et &#233;volution </titreEcheance>\\n    <region idRegion=\"cot7\">\\n    <situation>Faible gradient de pression 1015 hPa avec d&#233;pression relative sur l\\'ouest du Golfe du Lion &#224; l\\'avant d\\'un talweg atlantique. </situation>\\n    </region>\\n</echeance><echeance idEcheance=\"obs\" nomEcheance=\"observations\" debutEcheance=\"2021-09-13 09:00:00\" finEcheance=\"2021-09-13 09:00:00\" nbRegion=\"1\">\\n    <titreEcheance>Observations le lundi 13 septembre 2021 &#224; 09H00 UTC</titreEcheance>\\n    <region idRegion=\"cot7\">\\n    <observation>Cap Camarat : vent Est-Sud-Est 4 n&#339;uds.\\nCap Cepet : vent Sud-Ouest 4 n&#339;uds.\\nLe Levant : vent Ouest 6 n&#339;uds,  1018 hPa en hausse.\\nPorquerolles : vent Ouest 6 n&#339;uds.\\nCap Couronne : vent Est 6 n&#339;uds,  mer belle,  visibilit&#233; 6 milles.</observation>\\n    </region>\\n</echeance>\\n\\n<echeance idEcheance=\"j0\" nbRegion=\"1\">\\n<titreEcheance>Pr&#233;visions pour l\\'apr&#232;s-midi du lundi 13 septembre</titreEcheance>\\n<region idRegion=\"cot7\">\\n\\t\\t\\t\\t    <vent>VENT :\\n- &#224; l\\'ouest de Sici&#233; : Sud-Est 3 &#224; 4.\\n- &#224; l\\'est de Sici&#233; : Sud-Ouest 3 &#224; 4, fra&#238;chissant localement 5 &#224; l\\'est de Camarat &#224; la fin.</vent>\\n\\t\\t\\t\\t    <mer>MER : belle.</mer>\\n<houle>HOULE : non significative.</houle>\\n<TS>TEMPS : tr&#232;s nuageux &#224; l\\'ouest de Fos.</TS>\\n<visi>VISIBILITE : bonne.</visi></region></echeance>\\n\\n<echeance idEcheance=\"n0\" nbRegion=\"1\">\\n<titreEcheance>Pr&#233;visions pour la nuit du lundi 13 septembre au mardi 14 septembre</titreEcheance>\\n<region idRegion=\"cot7\">\\n\\t\\t\\t\\t    <vent>VENT :\\n- &#224; l\\'ouest de Sici&#233; : Sud-Est 3 &#224; 4.\\n- &#224; l\\'est de Sici&#233; : Sud-Ouest 2 &#224; 4.</vent>\\n\\t\\t\\t\\t    <mer>MER : belle &#224; peu agit&#233;e.</mer>\\n<houle>HOULE :\\n- &#224; l\\'ouest de Sici&#233; : Sud-Ouest 0.5 &#224; 1 m.\\n- &#224; l\\'est de Sici&#233; : non significative.</houle>\\n<TS>TEMPS : couvert. Localement pluies orageuses &#224; l\\'ouest de Marseille.</TS>\\n<visi>VISIBILITE : localement moyenne sous pluies orageuses.</visi></region></echeance>\\n\\n<echeance idEcheance=\"j1\" nbRegion=\"1\">\\n<titreEcheance>Pr&#233;visions pour la journ&#233;e du mardi 14 septembre</titreEcheance>\\n<region idRegion=\"cot7\">\\n\\t\\t\\t\\t    <vent>VENT :\\n- &#224; l\\'ouest de Sici&#233; : Sud-Est 4 &#224; 5.\\n- &#224; l\\'est de Sici&#233; : secteur Sud-Est dominant 1 &#224; 3.</vent>\\n\\t\\t\\t\\t    <mer>MER : belle &#224; peu agit&#233;e, devenant agit&#233;e &#224; l\\'ouest de Beauduc l\\'apr&#232;s-midi.</mer>\\n<houle>HOULE :\\n- &#224; l\\'ouest de Sici&#233; : Sud-Ouest 0.5 &#224; 1 m.\\n- &#224; l\\'est de Sici&#233; : non significative.</houle>\\n<TS>TEMPS : tr&#232;s nuageux &#224; couvert. Pluies orageuses &#224; l\\'ouest de Marseille.</TS>\\n<visi>VISIBILITE : bonne, localement moyenne sous pluies orageuses.</visi></region></echeance>\\n\\n<echeance idEcheance=\"j2\" nbRegion=\"1\">\\n<titreEcheance>Tendance pour la nuit du 14  au 15, et la journ&#233;e du mercredi 15 septembre</titreEcheance>\\n<region idRegion=\"cot7\">\\n\\t\\t\\t\\t    <vent>VENT :\\n- &#224; l\\'ouest de Sici&#233; : Sud-Est fra&#238;chissant 5 &#224; 6 la nuit.\\n- &#224; l\\'est de Sici&#233; : fra&#238;chissant secteur Est 4 &#224; 5 la nuit, mollissant 3 &#224; 4 l\\'apr&#232;s-midi.</vent>\\n\\t\\t\\t\\t    <mer>MER : agit&#233;e &#224; l\\'ouest de Beauduc, se g&#233;n&#233;ralisant en journ&#233;e.</mer>\\n<houle>HOULE : Sud &#224; Sud-Ouest 0.5 &#224; 1 m, s\\'amplifiant 1.5 &#224; 2 m l\\'apr&#232;s-midi.</houle>\\n<TS>TEMPS : pluies orageuses, principalement &#224; l\\'ouest de Sici&#233;.</TS>\\n<visi>VISIBILITE : moyenne sous pluies orageuses.</visi></region></echeance>\\n<piedBulletin>Prochain bulletin le lundi 13 septembre 2021, vers 18H15 l&#233;gales </piedBulletin>\\n</bulletin>'\n"
     ]
    }
   ],
   "metadata": {}
  },
  {
   "cell_type": "code",
   "execution_count": 15,
   "source": [
    "etree.XPath(\"//bulletin/titreBulletin\")(doc)[0].text"
   ],
   "outputs": [
    {
     "output_type": "execute_result",
     "data": {
      "text/plain": [
       "'Bulletin côte \"Port Camargue - Saint Raphaël\" midi'"
      ]
     },
     "metadata": {},
     "execution_count": 15
    }
   ],
   "metadata": {}
  },
  {
   "cell_type": "code",
   "execution_count": 20,
   "source": [
    "etree.XPath(\"//bulletin/echeance\")(doc)[0].tag"
   ],
   "outputs": [
    {
     "output_type": "execute_result",
     "data": {
      "text/plain": [
       "'echeance'"
      ]
     },
     "metadata": {},
     "execution_count": 20
    }
   ],
   "metadata": {}
  },
  {
   "cell_type": "code",
   "execution_count": 19,
   "source": [
    "for a,b in {\"test\": 10}.items():\n",
    "  print(a)\n",
    "  print(b)"
   ],
   "outputs": [
    {
     "output_type": "stream",
     "name": "stdout",
     "text": [
      "test\n",
      "10\n"
     ]
    }
   ],
   "metadata": {}
  },
  {
   "cell_type": "code",
   "execution_count": 11,
   "source": [
    "from datetime import datetime\n",
    "datetime.now().date()"
   ],
   "outputs": [
    {
     "output_type": "execute_result",
     "data": {
      "text/plain": [
       "datetime.date(2021, 9, 15)"
      ]
     },
     "metadata": {},
     "execution_count": 11
    }
   ],
   "metadata": {}
  },
  {
   "cell_type": "code",
   "execution_count": 9,
   "source": [
    "import re\n",
    "re.match(r\"^BMS Côte numéro ([0-9]+)\", \"BMS Côte numéro 346\").groups()[0]"
   ],
   "outputs": [
    {
     "output_type": "execute_result",
     "data": {
      "text/plain": [
       "'346'"
      ]
     },
     "metadata": {},
     "execution_count": 9
    }
   ],
   "metadata": {}
  },
  {
   "cell_type": "code",
   "execution_count": 15,
   "source": [
    "datetime.date(2021, 9, 15)"
   ],
   "outputs": [
    {
     "output_type": "error",
     "ename": "TypeError",
     "evalue": "descriptor 'date' for 'datetime.datetime' objects doesn't apply to a 'int' object",
     "traceback": [
      "\u001b[0;31m---------------------------------------------------------------------------\u001b[0m",
      "\u001b[0;31mTypeError\u001b[0m                                 Traceback (most recent call last)",
      "\u001b[0;32m/var/folders/jv/j6sd01s95yndl04vksbmy0t80000gn/T/ipykernel_7955/1436629952.py\u001b[0m in \u001b[0;36m<module>\u001b[0;34m\u001b[0m\n\u001b[0;32m----> 1\u001b[0;31m \u001b[0mdatetime\u001b[0m\u001b[0;34m.\u001b[0m\u001b[0mdate\u001b[0m\u001b[0;34m(\u001b[0m\u001b[0;36m2021\u001b[0m\u001b[0;34m,\u001b[0m \u001b[0;36m9\u001b[0m\u001b[0;34m,\u001b[0m \u001b[0;36m15\u001b[0m\u001b[0;34m)\u001b[0m\u001b[0;34m\u001b[0m\u001b[0;34m\u001b[0m\u001b[0m\n\u001b[0m",
      "\u001b[0;31mTypeError\u001b[0m: descriptor 'date' for 'datetime.datetime' objects doesn't apply to a 'int' object"
     ]
    }
   ],
   "metadata": {}
  },
  {
   "cell_type": "code",
   "execution_count": null,
   "source": [],
   "outputs": [],
   "metadata": {}
  }
 ],
 "metadata": {
  "orig_nbformat": 4,
  "language_info": {
   "name": "python",
   "version": "3.9.7",
   "mimetype": "text/x-python",
   "codemirror_mode": {
    "name": "ipython",
    "version": 3
   },
   "pygments_lexer": "ipython3",
   "nbconvert_exporter": "python",
   "file_extension": ".py"
  },
  "kernelspec": {
   "name": "python3",
   "display_name": "Python 3.9.7 64-bit ('3615meteo-3.9.7': pyenv)"
  },
  "interpreter": {
   "hash": "9e64a39de328541b4d8d0fea62a7ae09f6f440db8e87342d1372e36e6ea176b2"
  }
 },
 "nbformat": 4,
 "nbformat_minor": 2
}